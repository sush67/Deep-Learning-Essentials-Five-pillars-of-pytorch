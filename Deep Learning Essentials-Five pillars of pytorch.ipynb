{
  "nbformat": 4,
  "nbformat_minor": 0,
  "metadata": {
    "kernelspec": {
      "display_name": "Python 3",
      "language": "python",
      "name": "python3"
    },
    "language_info": {
      "codemirror_mode": {
        "name": "ipython",
        "version": 3
      },
      "file_extension": ".py",
      "mimetype": "text/x-python",
      "name": "python",
      "nbconvert_exporter": "python",
      "pygments_lexer": "ipython3",
      "version": "3.8.5"
    },
    "colab": {
      "name": "01-tensor-operations.ipynb",
      "provenance": [],
      "collapsed_sections": [],
      "include_colab_link": true
    }
  },
  "cells": [
    {
      "cell_type": "markdown",
      "metadata": {
        "id": "view-in-github",
        "colab_type": "text"
      },
      "source": [
        "<a href=\"https://colab.research.google.com/github/sush67/Deep-Learning-Essentials-Five-pillars-of-pytorch/blob/main/Deep%20Learning%20Essentials-Five%20pillars%20of%20pytorch.ipynb\" target=\"_parent\"><img src=\"https://colab.research.google.com/assets/colab-badge.svg\" alt=\"Open In Colab\"/></a>"
      ]
    },
    {
      "cell_type": "markdown",
      "metadata": {
        "id": "sO78qhop-TIv"
      },
      "source": [
        "# Deep Learning Essentials:Five pillars of pytorch\n",
        "\n",
        "An short introduction about PyTorch and about the chosen functions. \n",
        "\n",
        "- torch.reshape()\n",
        "- torch.cat()\n",
        "- torch.chunk()\n",
        "- torch.mul()\n",
        "- torch.reciprocal()\n",
        "\n",
        "Before we begin, let's install and import PyTorch"
      ]
    },
    {
      "cell_type": "code",
      "metadata": {
        "id": "CQvqBPsh0eKA"
      },
      "source": [
        "# Jovian Commit Essentials\n",
        "# Please retain and execute this cell without modifying the contents for `jovian.commit` to work\n",
        "!pip install jovian --upgrade -q\n",
        "import jovian\n",
        "jovian.utils.colab.set_colab_file_id('1HfvnEKeJMp9rIDtiNem2czznjazG7fBJ')"
      ],
      "execution_count": 45,
      "outputs": []
    },
    {
      "cell_type": "code",
      "metadata": {
        "id": "ER8qf-rC-TIv"
      },
      "source": [
        "# Import torch and other required modules\n",
        "import torch\n",
        "import jovian"
      ],
      "execution_count": 46,
      "outputs": []
    },
    {
      "cell_type": "markdown",
      "metadata": {
        "id": "Wrslkf99-TIv"
      },
      "source": [
        "## Function 1 - TORCH.RESHAPE\n",
        "\n",
        "1. Returns a tensor with the same data and number of elements as input, but with the specified shape. \n",
        "2. When possible, the returned tensor will be a view of input. Otherwise, it will be a copy.\n",
        "3. Contiguous inputs and inputs with compatible strides can be reshaped without copying, but you should not depend on the copying vs. viewing behavior."
      ]
    },
    {
      "cell_type": "markdown",
      "metadata": {
        "id": "PFic07JAPEIB"
      },
      "source": [
        "**Syntax :**\n",
        "\n",
        "torch.reshape(input, shape) → Tensor\n"
      ]
    },
    {
      "cell_type": "markdown",
      "metadata": {
        "id": "_2GRSoAo-TIx"
      },
      "source": [
        "**Parameters**\n",
        "\n",
        "1. input (Tensor) – the tensor to be reshaped\n",
        "2. shape (tuple of python:ints) – the new shape\n",
        "\n",
        "Below we have initialized tensor2 with some random numbers and we are tring to reshape it by passing into the torch.reshape()."
      ]
    },
    {
      "cell_type": "code",
      "metadata": {
        "colab": {
          "base_uri": "https://localhost:8080/"
        },
        "id": "lNBrldxq-TIv",
        "outputId": "e9f18a6b-ee2f-414e-d76a-47d8a3ab4e2c"
      },
      "source": [
        "# Example 1 - working \n",
        "tensor2 = torch.tensor([[1, 2], [3, 4.]])\n",
        "tensor2"
      ],
      "execution_count": 47,
      "outputs": [
        {
          "output_type": "execute_result",
          "data": {
            "text/plain": [
              "tensor([[1., 2.],\n",
              "        [3., 4.]])"
            ]
          },
          "metadata": {
            "tags": []
          },
          "execution_count": 47
        }
      ]
    },
    {
      "cell_type": "code",
      "metadata": {
        "colab": {
          "base_uri": "https://localhost:8080/"
        },
        "id": "I8OPT4QqCj2m",
        "outputId": "3dd7ee1e-6f2b-481d-b6b9-98b1cc91cbe9"
      },
      "source": [
        "tensor_reshaped = tensor2.reshape(1, 4)\n",
        "tensor_reshaped"
      ],
      "execution_count": 48,
      "outputs": [
        {
          "output_type": "execute_result",
          "data": {
            "text/plain": [
              "tensor([[1., 2., 3., 4.]])"
            ]
          },
          "metadata": {
            "tags": []
          },
          "execution_count": 48
        }
      ]
    },
    {
      "cell_type": "code",
      "metadata": {
        "id": "qg_5ZQyo-TIx"
      },
      "source": [
        "# Example 2 - working\n",
        "tensor_reshaped_2 = tensor2.reshape(1, -1)"
      ],
      "execution_count": 49,
      "outputs": []
    },
    {
      "cell_type": "code",
      "metadata": {
        "colab": {
          "base_uri": "https://localhost:8080/"
        },
        "id": "v-0jI6xyC6Nb",
        "outputId": "7801682d-b639-4611-a20c-300091c013d6"
      },
      "source": [
        "tensor_reshaped_2"
      ],
      "execution_count": 50,
      "outputs": [
        {
          "output_type": "execute_result",
          "data": {
            "text/plain": [
              "tensor([[1., 2., 3., 4.]])"
            ]
          },
          "metadata": {
            "tags": []
          },
          "execution_count": 50
        }
      ]
    },
    {
      "cell_type": "markdown",
      "metadata": {
        "id": "NrfKrAjj-TIx"
      },
      "source": [
        "Note that a single dimension may be -1, in which case it’s inferred from the remaining dimensions and the number of elements in input."
      ]
    },
    {
      "cell_type": "code",
      "metadata": {
        "colab": {
          "base_uri": "https://localhost:8080/",
          "height": 183
        },
        "id": "gYuOoKn0-TIx",
        "outputId": "24048131-5f5e-49c6-d2f0-9462eb8064e2"
      },
      "source": [
        "# Example 3 - breaking (to illustrate when it breaks)\n",
        "tensor2.reshape(1, 5)\n"
      ],
      "execution_count": 51,
      "outputs": [
        {
          "output_type": "error",
          "ename": "RuntimeError",
          "evalue": "ignored",
          "traceback": [
            "\u001b[0;31m---------------------------------------------------------------------------\u001b[0m",
            "\u001b[0;31mRuntimeError\u001b[0m                              Traceback (most recent call last)",
            "\u001b[0;32m<ipython-input-51-630167e2ea21>\u001b[0m in \u001b[0;36m<module>\u001b[0;34m()\u001b[0m\n\u001b[1;32m      1\u001b[0m \u001b[0;31m# Example 3 - breaking (to illustrate when it breaks)\u001b[0m\u001b[0;34m\u001b[0m\u001b[0;34m\u001b[0m\u001b[0;34m\u001b[0m\u001b[0m\n\u001b[0;32m----> 2\u001b[0;31m \u001b[0mtensor2\u001b[0m\u001b[0;34m.\u001b[0m\u001b[0mreshape\u001b[0m\u001b[0;34m(\u001b[0m\u001b[0;36m1\u001b[0m\u001b[0;34m,\u001b[0m \u001b[0;36m5\u001b[0m\u001b[0;34m)\u001b[0m\u001b[0;34m\u001b[0m\u001b[0;34m\u001b[0m\u001b[0m\n\u001b[0m",
            "\u001b[0;31mRuntimeError\u001b[0m: shape '[1, 5]' is invalid for input of size 4"
          ]
        }
      ]
    },
    {
      "cell_type": "markdown",
      "metadata": {
        "id": "Di3svagt-TIy"
      },
      "source": [
        "The specified dimensions should be valid given the orginal input.\n",
        "\n",
        "We are getting an error here because there are only 4 elements but we are asking to distribute it into one row and 5 columns, which is not possible."
      ]
    },
    {
      "cell_type": "code",
      "metadata": {
        "id": "ElXdzK2B-TIy"
      },
      "source": [
        "!pip install jovian --upgrade --quiet"
      ],
      "execution_count": null,
      "outputs": []
    },
    {
      "cell_type": "code",
      "metadata": {
        "id": "GqHINpmW-TIy"
      },
      "source": [
        "import jovian"
      ],
      "execution_count": null,
      "outputs": []
    },
    {
      "cell_type": "code",
      "metadata": {
        "id": "GC61soVW-TIy"
      },
      "source": [
        "jovian.commit(project='Deep Learning Essentials:Five pillars of pytorch')"
      ],
      "execution_count": null,
      "outputs": []
    },
    {
      "cell_type": "markdown",
      "metadata": {
        "id": "lUfiS50F-TIy"
      },
      "source": [
        "## Function 2 - TORCH.CAT\n",
        "\n",
        "1. Concatenates the given sequence of seq tensors in the given dimension.\n",
        "\n",
        "2. All tensors must either have the same shape (except in the concatenating dimension) or be empty."
      ]
    },
    {
      "cell_type": "markdown",
      "metadata": {
        "id": "EA72qDN3UZxv"
      },
      "source": [
        "**Syntax :**\n",
        "\n",
        "torch.cat(tensors, dim=0, *, out=None) → Tensor"
      ]
    },
    {
      "cell_type": "markdown",
      "metadata": {
        "id": "Cpecd85z-TIy"
      },
      "source": [
        "**Parameters**\n",
        "\n",
        "tensors (sequence of Tensors) – any python sequence of tensors of the same type. Non-empty tensors provided must have the same shape, except in the cat dimension.\n",
        "\n",
        "dim (int, optional) – the dimension over which the tensors are concatenated\n",
        "\n",
        "Below, We have intialized the tensor of shape 2x3 with random values and we  are trying to concatenate x with itself."
      ]
    },
    {
      "cell_type": "code",
      "metadata": {
        "id": "xmNEWO9C-TIy"
      },
      "source": [
        "# Example 1 - working\n",
        "x = torch.randn(2, 3)\n",
        "x\n",
        "torch.cat((x, x, x), 0)"
      ],
      "execution_count": null,
      "outputs": []
    },
    {
      "cell_type": "code",
      "metadata": {
        "id": "S7ORa0r9-TIy"
      },
      "source": [
        "# Example 2 - working\n",
        "torch.cat((x, x, x), 1)"
      ],
      "execution_count": null,
      "outputs": []
    },
    {
      "cell_type": "markdown",
      "metadata": {
        "id": "k6aDuvwB-TIz"
      },
      "source": [
        "By chaning the dim parameters, the concatenation can be achieved along columns"
      ]
    },
    {
      "cell_type": "code",
      "metadata": {
        "id": "CeOMyQW7-TIz"
      },
      "source": [
        "# Example 3 - breaking (to illustrate when it breaks)\n",
        "tensor3 = torch.tensor([[1, 2], [3, 4.]])\n",
        "tensor4 = torch.tensor([[2, 4], [6, 8.]])\n",
        "tensor5 = torch.tensor([[2, 4, 6], [6, 8., 10]])\n",
        "print(tensor3)\n",
        "print(tensor4)\n",
        "print(tensor5)"
      ],
      "execution_count": null,
      "outputs": []
    },
    {
      "cell_type": "code",
      "metadata": {
        "id": "szp69RQyTbHP"
      },
      "source": [
        "torch.cat((tensor3, tensor4))"
      ],
      "execution_count": null,
      "outputs": []
    },
    {
      "cell_type": "code",
      "metadata": {
        "id": "uuXQmdZeTL1N"
      },
      "source": [
        "torch.cat((tensor3, tensor4, tensor5))"
      ],
      "execution_count": null,
      "outputs": []
    },
    {
      "cell_type": "markdown",
      "metadata": {
        "id": "ZUcgGM6i-TIz"
      },
      "source": [
        "The error is given by the fact that the shape of the last tensor is (2, 3), thus by concatenating along dimension 0 (vertically), the number of columns won't match.\n",
        "\n",
        "If we were concatenating with dim=1, everything would be fine since tensors sizes match except the concatenating dimension."
      ]
    },
    {
      "cell_type": "code",
      "metadata": {
        "id": "TZLMNwP5VRLo"
      },
      "source": [
        "torch.cat((tensor3, tensor4, tensor5),dim=1)"
      ],
      "execution_count": null,
      "outputs": []
    },
    {
      "cell_type": "markdown",
      "metadata": {
        "id": "9oSVnuPa-TIz"
      },
      "source": [
        "torch.cat() can be seen as an inverse operation for torch.split() and torch.chunk()"
      ]
    },
    {
      "cell_type": "code",
      "metadata": {
        "id": "ztIt6u4J-TIz"
      },
      "source": [
        "jovian.commit(project='Deep Learning Essentials:Five pillars of pytorch')"
      ],
      "execution_count": null,
      "outputs": []
    },
    {
      "cell_type": "markdown",
      "metadata": {
        "id": "-qaDEFq0-TIz"
      },
      "source": [
        "## Function 3 - TORCH.CHUNK\n",
        "\n",
        "Splits a tensor into a specific number of chunks. Each chunk is a view of the input tensor."
      ]
    },
    {
      "cell_type": "markdown",
      "metadata": {
        "id": "TEf9flm-klXl"
      },
      "source": [
        "**Syntax :**\n",
        "\n",
        "torch.chunk(input, chunks, dim=0) → List of Tensors"
      ]
    },
    {
      "cell_type": "markdown",
      "metadata": {
        "id": "PGeh46lH-TIz"
      },
      "source": [
        "**Parameters**\n",
        "\n",
        "input (Tensor) – the tensor to split\n",
        "\n",
        "chunks (int) – number of chunks to return, which is to be a positive integer.\n",
        "\n",
        "dim (int) – dimension along which to split the tensor\n",
        "\n",
        "Here we have splitted chunkedt1 into 2 chunks."
      ]
    },
    {
      "cell_type": "code",
      "metadata": {
        "id": "nkxUFVk4-TIz"
      },
      "source": [
        "# Example 1 - working\n",
        "t1 = torch.tensor([[1,2,3,4,5],[6,7,8,9,10],[11,12,13,14,15],[16,17,18,19,20],[21,22,23,24,25],[26,27,28,29,30]])\n",
        "t1\n"
      ],
      "execution_count": null,
      "outputs": []
    },
    {
      "cell_type": "code",
      "metadata": {
        "id": "lX_xsnJ1lhBG"
      },
      "source": [
        "chunkedt1 = t1.chunk(2)\n",
        "chunkedt1"
      ],
      "execution_count": null,
      "outputs": []
    },
    {
      "cell_type": "code",
      "metadata": {
        "id": "X2Yd7omulk2b"
      },
      "source": [
        "chunkedt1[0]"
      ],
      "execution_count": null,
      "outputs": []
    },
    {
      "cell_type": "code",
      "metadata": {
        "id": "FQsduThTlkNe"
      },
      "source": [
        "chunkedt1[1]"
      ],
      "execution_count": null,
      "outputs": []
    },
    {
      "cell_type": "code",
      "metadata": {
        "id": "0tVRZaPZ-TIz"
      },
      "source": [
        "# Example 2 - working\n",
        "chunkedt1 = t1.chunk(10)\n",
        "chunkedt1\n",
        "print(\"length of chunkedt1 is:{}\".format(len(chunkedt1)))"
      ],
      "execution_count": null,
      "outputs": []
    },
    {
      "cell_type": "markdown",
      "metadata": {
        "id": "0A_69Tyz-TIz"
      },
      "source": [
        "It can be observed thatlength of chunkedt1 is 6.\n",
        "\n",
        "What just happened?!! \n",
        "\n",
        "We asked for 10 chunks, by disecting the tensor, pytorch returns the highest number of chuncks it can possibly grab.\n",
        "\n",
        "This is how torch.chunk() works!"
      ]
    },
    {
      "cell_type": "code",
      "metadata": {
        "id": "gzkR4ZuE-TIz"
      },
      "source": [
        "# Example 3 - breaking (to illustrate when it breaks)\n",
        "t1.chunk(-1)"
      ],
      "execution_count": null,
      "outputs": []
    },
    {
      "cell_type": "code",
      "metadata": {
        "id": "pddJQfKsmx8K"
      },
      "source": [
        "t1.chunk(1.4)"
      ],
      "execution_count": null,
      "outputs": []
    },
    {
      "cell_type": "markdown",
      "metadata": {
        "id": "_ZETboby-TIz"
      },
      "source": [
        "Note that ,we can't pass in negative numbers or float value as a chunk value parameter, it accepts only integers and numbers greater than 0"
      ]
    },
    {
      "cell_type": "markdown",
      "metadata": {
        "id": "2lls9jnr-TIz"
      },
      "source": [
        "torch.chunk() is pretty usefull when we are working with tensors and trying get subarray from it."
      ]
    },
    {
      "cell_type": "code",
      "metadata": {
        "id": "KBR6WxHS-TIz"
      },
      "source": [
        "jovian.commit(project='Deep Learning Essentials:Five pillars of pytorch')"
      ],
      "execution_count": null,
      "outputs": []
    },
    {
      "cell_type": "markdown",
      "metadata": {
        "id": "1TqHyCBN-TI0"
      },
      "source": [
        "## Function 4 - TORCH.MUL\n",
        "\n",
        "Multiplies each element of the input input with the scalar other and returns a new resulting tensor.\n",
        "\n"
      ]
    },
    {
      "cell_type": "markdown",
      "metadata": {
        "id": "FJlAE6yzqTMp"
      },
      "source": [
        "**Syntax :**\n",
        "\n",
        "torch.mul(input, other, *, out=None)"
      ]
    },
    {
      "cell_type": "markdown",
      "metadata": {
        "id": "o0VL3jiCqcrR"
      },
      "source": [
        "**Parameters**\n",
        "\n",
        "{input} –\n",
        "\n",
        "other (Number) – the number to be multiplied to each element of input or another tensor\n",
        "\n",
        "If input is of type FloatTensor or DoubleTensor, other should be a real number, otherwise it should be an integer"
      ]
    },
    {
      "cell_type": "code",
      "metadata": {
        "id": "NGvEeISO-TI0"
      },
      "source": [
        "# Example 1 - working\n",
        "a = torch.randn(5)\n",
        "a\n",
        "torch.mul(a, 100)"
      ],
      "execution_count": null,
      "outputs": []
    },
    {
      "cell_type": "markdown",
      "metadata": {
        "id": "___43AAO-TI0"
      },
      "source": [
        "Observe that each element of the tensor input is multiplied by the corresponding element of the Tensor other. The resulting tensor is returned."
      ]
    },
    {
      "cell_type": "code",
      "metadata": {
        "id": "g4j6mDHp-TI0"
      },
      "source": [
        "# Example 2 - working\n",
        "a = torch.randn(5, 1)\n",
        "a"
      ],
      "execution_count": null,
      "outputs": []
    },
    {
      "cell_type": "code",
      "metadata": {
        "id": "B33l7EjgsHN-"
      },
      "source": [
        "b = torch.randn(1, 5)\n",
        "b"
      ],
      "execution_count": null,
      "outputs": []
    },
    {
      "cell_type": "code",
      "metadata": {
        "id": "fbab1TqrsG6T"
      },
      "source": [
        "torch.mul(a, b)"
      ],
      "execution_count": null,
      "outputs": []
    },
    {
      "cell_type": "markdown",
      "metadata": {
        "id": "kTZJgDFW-TI0"
      },
      "source": [
        "The shapes of input and other must be broadcastable"
      ]
    },
    {
      "cell_type": "code",
      "metadata": {
        "id": "O4gsL7vG-TI0"
      },
      "source": [
        "# Example 3 - breaking (to illustrate when it breaks)\n",
        "c = torch.rand(1,6)\n",
        "c"
      ],
      "execution_count": null,
      "outputs": []
    },
    {
      "cell_type": "code",
      "metadata": {
        "id": "g_PNzpe8syHz"
      },
      "source": [
        "torch.mul(b,c)"
      ],
      "execution_count": null,
      "outputs": []
    },
    {
      "cell_type": "markdown",
      "metadata": {
        "id": "Z_D53y45-TI0"
      },
      "source": [
        "Error is raised when the size of the tensors are not compatible with each other."
      ]
    },
    {
      "cell_type": "markdown",
      "metadata": {
        "id": "9HsVeDBh-TI0"
      },
      "source": [
        "torch.mul() is really useful when we are performing complex mathematical operations and calculations."
      ]
    },
    {
      "cell_type": "code",
      "metadata": {
        "id": "zJ73tcPJ-TI0"
      },
      "source": [
        "jovian.commit(project='Deep Learning Essentials:Five pillars of pytorch')"
      ],
      "execution_count": null,
      "outputs": []
    },
    {
      "cell_type": "markdown",
      "metadata": {
        "id": "Pvu9DpSE-TI0"
      },
      "source": [
        "## Function 5 - TORCH.BERNOULLI\n",
        "\n",
        "Draws binary random numbers (0 or 1) from a Bernoulli distribution.\n",
        "\n",
        "The input tensor should be a tensor containing probabilities to be used for drawing the binary random number.Hence, all values in input have to be in the range: 0<=input<=1\n",
        "\n",
        "The output tensor only has values 0 or 1 and is of the same shape as input."
      ]
    },
    {
      "cell_type": "markdown",
      "metadata": {
        "id": "o4faAFYfuTgA"
      },
      "source": [
        "**Syntax :**\n",
        "\n",
        "torch.bernoulli(input, *, generator=None, out=None) → Tensor"
      ]
    },
    {
      "cell_type": "markdown",
      "metadata": {
        "id": "xAtvIGxSu7iK"
      },
      "source": [
        "**Parameters**\n",
        "\n",
        "input (Tensor) – the input tensor of probability values for the Bernoulli distribution"
      ]
    },
    {
      "cell_type": "code",
      "metadata": {
        "id": "grbR_jE9-TI0"
      },
      "source": [
        "# Example 1 - working\n",
        "d = torch.empty(3, 3).uniform_(0, 1) \n",
        "d"
      ],
      "execution_count": null,
      "outputs": []
    },
    {
      "cell_type": "code",
      "metadata": {
        "id": "7_AtAf9iwRJZ"
      },
      "source": [
        "torch.bernoulli(d)"
      ],
      "execution_count": null,
      "outputs": []
    },
    {
      "cell_type": "markdown",
      "metadata": {
        "id": "OajfBtyR-TI0"
      },
      "source": [
        "We have intialized tensor d with some values using uniform_()and the respective output is as shown above."
      ]
    },
    {
      "cell_type": "code",
      "metadata": {
        "id": "YCwMzUFN-TI0"
      },
      "source": [
        "# Example 2 - working\n",
        "e = torch.empty(4, 3).uniform_(0, 1) \n",
        "e"
      ],
      "execution_count": null,
      "outputs": []
    },
    {
      "cell_type": "code",
      "metadata": {
        "id": "fSKUH7Y4xfk3"
      },
      "source": [
        "torch.bernoulli(e)"
      ],
      "execution_count": null,
      "outputs": []
    },
    {
      "cell_type": "markdown",
      "metadata": {
        "id": "13SnKaPP-TI0"
      },
      "source": [
        "This example is similar to the above one except the fact that this is not a tensor with equal no. of rows and columns."
      ]
    },
    {
      "cell_type": "code",
      "metadata": {
        "id": "1AIXKQvd-TI0"
      },
      "source": [
        "# Example 3 - breaking (to illustrate when it breaks)\n",
        "f = torch.empty(3, 3).uniform_(0,2)\n",
        "print(f)\n"
      ],
      "execution_count": null,
      "outputs": []
    },
    {
      "cell_type": "code",
      "metadata": {
        "id": "j-NAPc02x7Oc"
      },
      "source": [
        "torch.bernoulli(f)"
      ],
      "execution_count": null,
      "outputs": []
    },
    {
      "cell_type": "markdown",
      "metadata": {
        "id": "Khi7daXe-TI0"
      },
      "source": [
        "Strictly,the range of the input tensor should be in range of [0,1],else the whole Bernoulli distribution, itself becomes wrong!"
      ]
    },
    {
      "cell_type": "code",
      "metadata": {
        "id": "w687-3C1-TI0"
      },
      "source": [
        "jovian.commit(project='Deep Learning Essentials:Five pillars of pytorch')"
      ],
      "execution_count": null,
      "outputs": []
    },
    {
      "cell_type": "markdown",
      "metadata": {
        "id": "nKEllYJD-TI1"
      },
      "source": [
        "## Conclusion\n",
        "\n",
        "We have seen the 5 interesting functions and their\n",
        "1.   Description\n",
        "2.   Syntax\n",
        "3.   Parameters\n",
        "5.   Working- using examples\n",
        "6.   When the function breaks/raises errors\n",
        "\n",
        "There are lot of functions in pytorch which are essential and fun to work with. Explore all of them using the reference link provided below.\n",
        "\n",
        "I hope this short introduction is helpful!"
      ]
    },
    {
      "cell_type": "markdown",
      "metadata": {
        "id": "snZaEXVD-TI1"
      },
      "source": [
        "## Reference Links\n",
        "Provide links to your references and other interesting articles about tensors\n",
        "* Official documentation for tensor operations: https://pytorch.org/docs/stable/torch.html"
      ]
    },
    {
      "cell_type": "code",
      "metadata": {
        "id": "H7KeXMs4-TI1"
      },
      "source": [
        "jovian.commit(project='Deep Learning Essentials:Five pillars of pytorch')"
      ],
      "execution_count": null,
      "outputs": []
    },
    {
      "cell_type": "code",
      "metadata": {
        "id": "143Wk7-Q-TI1"
      },
      "source": [
        ""
      ],
      "execution_count": null,
      "outputs": []
    }
  ]
}